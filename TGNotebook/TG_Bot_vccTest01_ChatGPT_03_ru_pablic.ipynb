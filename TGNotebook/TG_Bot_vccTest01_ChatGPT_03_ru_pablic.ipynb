{
  "nbformat": 4,
  "nbformat_minor": 0,
  "metadata": {
    "colab": {
      "provenance": [],
      "collapsed_sections": [
        "HENbXEGzKaIs",
        "ZOt0YU6GSX0E",
        "2W_LsZ96SiVd",
        "XubjTuhETOvu",
        "DollMV2iS0WP",
        "kFvTCt6STn9L",
        "6EeSaX3KUyV6",
        "6tq4s2yzVBnC",
        "PFDETiYaWRVb"
      ]
    },
    "kernelspec": {
      "name": "python3",
      "display_name": "Python 3"
    },
    "language_info": {
      "name": "python"
    }
  },
  "cells": [
    {
      "cell_type": "markdown",
      "source": [
        "# Создание Telegram-ботов с ChatGPT\n",
        "\n",
        "**Предварительные действия:**\n",
        "\n",
        "1. Зарегистрировать свой TG bot c помощью @BotFather и **получить TOKEN**.\n",
        "\n",
        "см. мини-урок создание ТГ-бота с нейронкой\n",
        "\n",
        "**Запись:** https://youtu.be/P4avg69mS6c\n",
        "\n",
        "**ДЗ и исходники:** https://drive.google.com/drive/folders/1SY6wiM1BYkZcf3mWONHudIHfnhQ8BXJn\n",
        "\n",
        "\n",
        "2. **Получить Open AI и API_KEY**\n",
        "\n",
        "см.Открытый урок по дообучению ChatGPT. Июнь 2023 г:\n",
        "\n",
        "**Запись урока**: https://youtu.be/9KEvtROY3O8\n",
        "\n",
        "**Исходник:** https://colab.research.google.com/drive/1D02aZC7Nb7oXERIAni4lkaDOa4UOaN7o\n",
        "\n",
        "**ДЗ:** https://colab.research.google.com/drive/1oc35Vvr6mawFO6DAaTtPQjkFQxfxiCEh?usp=share_link"
      ],
      "metadata": {
        "id": "HENbXEGzKaIs"
      }
    },
    {
      "cell_type": "markdown",
      "source": [
        "## Установка библиотек. Сервисные функции"
      ],
      "metadata": {
        "id": "ZOt0YU6GSX0E"
      }
    },
    {
      "cell_type": "code",
      "source": [
        "!pip install openai\n",
        "!pip -q install --upgrade tiktoken\n",
        "!pip -q install langchain chromadb\n",
        "!pip install python-telegram-bot\n",
        "!pip install load_dotenv"
      ],
      "metadata": {
        "id": "sX3ZyYb_Kc9C"
      },
      "execution_count": null,
      "outputs": []
    },
    {
      "cell_type": "code",
      "source": [
        "# подключаем необходимые для работы библиотеки\n",
        "from telegram.ext import Application, CommandHandler\n",
        "from dotenv import load_dotenv\n",
        "import os\n",
        "from google.colab import drive"
      ],
      "metadata": {
        "id": "hNAm8AbWK0Zt"
      },
      "execution_count": 2,
      "outputs": []
    },
    {
      "cell_type": "markdown",
      "source": [
        "## Подключаем Google disk"
      ],
      "metadata": {
        "id": "2W_LsZ96SiVd"
      }
    },
    {
      "cell_type": "code",
      "source": [
        "# Подключаем гугл диск (GDrive)\n",
        "# для этого необходима учетная запись на гугл\n",
        "drive.mount('/content/drive')"
      ],
      "metadata": {
        "id": "AFsnzi5xK8PB"
      },
      "execution_count": null,
      "outputs": []
    },
    {
      "cell_type": "markdown",
      "source": [
        "## Создаем каталоги на Google disk.\n",
        "\n",
        "**Выполнять  только один раз!**"
      ],
      "metadata": {
        "id": "XubjTuhETOvu"
      }
    },
    {
      "cell_type": "code",
      "source": [
        "# Создаём директории в личном хранилище на гугл диске\n",
        "%mkdir -p /content/drive/MyDrive/TGNotebook_03/TG_bot"
      ],
      "metadata": {
        "id": "cOFCqk9r9ICk"
      },
      "execution_count": 6,
      "outputs": []
    },
    {
      "cell_type": "code",
      "source": [
        "# Создаём переменную которая будет хранить ссылку к директории\n",
        "way = '/content/drive/MyDrive/TGNotebook_03/TG_bot'"
      ],
      "metadata": {
        "id": "MRX_V8jlNAEN"
      },
      "execution_count": 7,
      "outputs": []
    },
    {
      "cell_type": "markdown",
      "source": [
        "## Созадем файл окружения для хранения TOKEN и API_KEY.\n",
        "\n",
        "**Повторно выполнять только если нужно обновить значения !**"
      ],
      "metadata": {
        "id": "DollMV2iS0WP"
      }
    },
    {
      "cell_type": "code",
      "source": [
        "app_file = '''\n",
        "TOKEN = '???'        # TG bot token\n",
        "API_KEY = '???' # Open AI API Key\n",
        "# УИИ учебный\n",
        "SYSTEM_DOC_URL = 'https://docs.google.com/document/d/1eG-WfEiwyJZIZPgi-GK7-Q9ueO1FNcgfvFjsAf99N6g'     # промпт\n",
        "KNOWLEDGE_BASE_URL = 'https://docs.google.com/document/d/1uKznFpg5uDuSd65QUMEcuyxB1NfrKqk93BOoG0wwYQg' # база знаний\n",
        "VERBOSE = 1                       # Выводить тех. инфу\n",
        "TEMPERATURE = 1                   # Температура модели\n",
        "# LL_MODEL = \"gpt-3.5-turbo-0301\" # Модель\n",
        "LL_MODEL = \"gpt-3.5-turbo-0613\"   # Модель\n",
        "#LL_MODEL = \"gpt-3.5-turbo-16k\"  # Модель\n",
        "# LL_MODEL = \"gpt-3.5-turbo\"      # Модель\n",
        "'''\n",
        "with open(way+'/.env', 'w') as file:\n",
        "    file.write(app_file)"
      ],
      "metadata": {
        "id": "nTIf02q3Odmy"
      },
      "execution_count": 15,
      "outputs": []
    },
    {
      "cell_type": "markdown",
      "source": [
        "## В созданную папку TG_bot у себя в Google disk нужно залить файлы отсюда:\n",
        "\n",
        "https://drive.google.com/drive/folders/1zj58OsWMEB3ruzL3Ug6DjMhZxTz3ny4P?usp=sharing\n"
      ],
      "metadata": {
        "id": "sys9TCIGdRwx"
      }
    },
    {
      "cell_type": "markdown",
      "source": [
        "## Запускаем TG ботов"
      ],
      "metadata": {
        "id": "kFvTCt6STn9L"
      }
    },
    {
      "cell_type": "code",
      "source": [
        "%pwd"
      ],
      "metadata": {
        "id": "YjDLQFV2PzTJ"
      },
      "execution_count": null,
      "outputs": []
    },
    {
      "cell_type": "code",
      "source": [
        "%cd /content/drive/MyDrive/TGNotebook_03/TG_bot"
      ],
      "metadata": {
        "id": "9mWcyrt3QHSq"
      },
      "execution_count": null,
      "outputs": []
    },
    {
      "cell_type": "markdown",
      "source": [
        "### 1. Исходная версия update_context bot\n",
        "\n",
        "см. мини-урок создание ТГ-бота с нейронкой\n",
        "\n",
        "**Запись:** https://youtu.be/P4avg69mS6c\n",
        "\n",
        "**ДЗ и исходники:** https://drive.google.com/drive/folders/1SY6wiM1BYkZcf3mWONHudIHfnhQ8BXJn\n",
        "\n",
        "\n",
        "\n"
      ],
      "metadata": {
        "id": "6EeSaX3KUyV6"
      }
    },
    {
      "cell_type": "code",
      "source": [
        "!python /content/drive/MyDrive/TGNotebook_03/TG_bot/openlesson2_tgbot.py"
      ],
      "metadata": {
        "id": "bVLITKKxQslx"
      },
      "execution_count": null,
      "outputs": []
    },
    {
      "cell_type": "markdown",
      "source": [
        "### 2. Версия update_context bot с запросом к ChatGPT\n",
        "см. Пример №1 в Открытый урок по дообучению. Июнь 2023 г\n",
        "\n",
        "**Тестовый запрос:** Как правильно писать продающие посты в телеграм?\n",
        "\n",
        "\n",
        "**Нотебук:** https://colab.research.google.com/drive/1D02aZC7Nb7oXERIAni4lkaDOa4UOaN7o#scrollTo=iTXKe1vsVQYF\n",
        "\n",
        "**Запись урока:** https://youtu.be/9KEvtROY3O8"
      ],
      "metadata": {
        "id": "6tq4s2yzVBnC"
      }
    },
    {
      "cell_type": "code",
      "source": [
        "!python /content/drive/MyDrive/TGNotebook_03/TG_bot/openlesson2_tgbot_gpt_01.py"
      ],
      "metadata": {
        "id": "MnX-hu6FbfJH"
      },
      "execution_count": null,
      "outputs": []
    },
    {
      "cell_type": "markdown",
      "source": [
        "### 3. Версия update_context bot с запросом к ChatGPT с дообучением\n",
        "\n",
        "**Тестовый запрос:** сколько времени нужно будет уделять учебе, чтобы освоить всю программу?\n",
        "\n",
        "см. Пример №1 в разделе Ответы на вопросы по маркетинговой базе данных\n",
        "\n",
        "Открытый урок по дообучению. Июнь 2023 г\n",
        "\n",
        "**Нотебук:** https://colab.research.google.com/drive/1D02aZC7Nb7oXERIAni4lkaDOa4UOaN7o#scrollTo=iTXKe1vsVQYF\n",
        "\n",
        "**Запись урока:** https://youtu.be/9KEvtROY3O8"
      ],
      "metadata": {
        "id": "PFDETiYaWRVb"
      }
    },
    {
      "cell_type": "code",
      "source": [
        "!python /content/drive/MyDrive/TGNotebook_03/TG_bot/openlesson2_tgbot_gpt_02.py"
      ],
      "metadata": {
        "id": "c-pVVA0Ey3jd"
      },
      "execution_count": null,
      "outputs": []
    }
  ]
}