{
  "nbformat": 4,
  "nbformat_minor": 0,
  "metadata": {
    "colab": {
      "provenance": [],
      "collapsed_sections": [
        "HENbXEGzKaIs",
        "ZOt0YU6GSX0E",
        "2W_LsZ96SiVd",
        "XubjTuhETOvu",
        "DollMV2iS0WP",
        "kFvTCt6STn9L",
        "6EeSaX3KUyV6",
        "6tq4s2yzVBnC",
        "PFDETiYaWRVb"
      ]
    },
    "kernelspec": {
      "name": "python3",
      "display_name": "Python 3"
    },
    "language_info": {
      "name": "python"
    }
  },
  "cells": [
    {
      "cell_type": "markdown",
      "source": [
        "# Создание Telegram-ботов с ChatGPT\n",
        "\n",
        "Предварительные действия:\n",
        "\n",
        "1. Зарегистрировать свой TG bot c помощью @BotFather и получить TOKEN.\n",
        "\n",
        "см. мини-урок создание ТГ-бота с нейронкой\n",
        "\n",
        "Запись: https://youtu.be/P4avg69mS6c\n",
        "\n",
        "ДЗ и исходники: https://drive.google.com/drive/folders/1SY6wiM1BYkZcf3mWONHudIHfnhQ8BXJn\n",
        "\n",
        "\n",
        "2. Получить Open AI и API_KEY\n",
        "\n",
        "см.Открытый урок по дообучению ChatGPT. Июнь 2023 г:\n",
        "\n",
        "Запись урока: https://youtu.be/9KEvtROY3O8\n",
        "\n",
        "Исходник: https://colab.research.google.com/drive/1D02aZC7Nb7oXERIAni4lkaDOa4UOaN7o\n",
        "\n",
        "ДЗ: https://colab.research.google.com/drive/1oc35Vvr6mawFO6DAaTtPQjkFQxfxiCEh?usp=share_link"
      ],
      "metadata": {
        "id": "HENbXEGzKaIs"
      }
    },
    {
      "cell_type": "markdown",
      "source": [
        "## Установка библиотек. Сервисные функции"
      ],
      "metadata": {
        "id": "ZOt0YU6GSX0E"
      }
    },
    {
      "cell_type": "code",
      "source": [
        "!pip install openai\n",
        "!pip -q install --upgrade tiktoken\n",
        "!pip -q install langchain openai chromadb\n",
        "!pip install python-telegram-bot\n",
        "!pip install load_dotenv"
      ],
      "metadata": {
        "colab": {
          "base_uri": "https://localhost:8080/"
        },
        "id": "sX3ZyYb_Kc9C",
        "outputId": "f5e804c3-8108-4f07-9329-8bd7ff55e943"
      },
      "execution_count": 1,
      "outputs": [
        {
          "output_type": "stream",
          "name": "stdout",
          "text": [
            "Collecting openai\n",
            "  Downloading openai-0.27.8-py3-none-any.whl (73 kB)\n",
            "\u001b[?25l     \u001b[90m━━━━━━━━━━━━━━━━━━━━━━━━━━━━━━━━━━━━━━━━\u001b[0m \u001b[32m0.0/73.6 kB\u001b[0m \u001b[31m?\u001b[0m eta \u001b[36m-:--:--\u001b[0m\r\u001b[2K     \u001b[91m━━━━━━━━━━━━━━━━━━━━━━\u001b[0m\u001b[90m╺\u001b[0m\u001b[90m━━━━━━━━━━━━━━━━━\u001b[0m \u001b[32m41.0/73.6 kB\u001b[0m \u001b[31m1.0 MB/s\u001b[0m eta \u001b[36m0:00:01\u001b[0m\r\u001b[2K     \u001b[90m━━━━━━━━━━━━━━━━━━━━━━━━━━━━━━━━━━━━━━━━\u001b[0m \u001b[32m73.6/73.6 kB\u001b[0m \u001b[31m1.3 MB/s\u001b[0m eta \u001b[36m0:00:00\u001b[0m\n",
            "\u001b[?25hRequirement already satisfied: requests>=2.20 in /usr/local/lib/python3.10/dist-packages (from openai) (2.27.1)\n",
            "Requirement already satisfied: tqdm in /usr/local/lib/python3.10/dist-packages (from openai) (4.65.0)\n",
            "Requirement already satisfied: aiohttp in /usr/local/lib/python3.10/dist-packages (from openai) (3.8.4)\n",
            "Requirement already satisfied: urllib3<1.27,>=1.21.1 in /usr/local/lib/python3.10/dist-packages (from requests>=2.20->openai) (1.26.16)\n",
            "Requirement already satisfied: certifi>=2017.4.17 in /usr/local/lib/python3.10/dist-packages (from requests>=2.20->openai) (2023.5.7)\n",
            "Requirement already satisfied: charset-normalizer~=2.0.0 in /usr/local/lib/python3.10/dist-packages (from requests>=2.20->openai) (2.0.12)\n",
            "Requirement already satisfied: idna<4,>=2.5 in /usr/local/lib/python3.10/dist-packages (from requests>=2.20->openai) (3.4)\n",
            "Requirement already satisfied: attrs>=17.3.0 in /usr/local/lib/python3.10/dist-packages (from aiohttp->openai) (23.1.0)\n",
            "Requirement already satisfied: multidict<7.0,>=4.5 in /usr/local/lib/python3.10/dist-packages (from aiohttp->openai) (6.0.4)\n",
            "Requirement already satisfied: async-timeout<5.0,>=4.0.0a3 in /usr/local/lib/python3.10/dist-packages (from aiohttp->openai) (4.0.2)\n",
            "Requirement already satisfied: yarl<2.0,>=1.0 in /usr/local/lib/python3.10/dist-packages (from aiohttp->openai) (1.9.2)\n",
            "Requirement already satisfied: frozenlist>=1.1.1 in /usr/local/lib/python3.10/dist-packages (from aiohttp->openai) (1.4.0)\n",
            "Requirement already satisfied: aiosignal>=1.1.2 in /usr/local/lib/python3.10/dist-packages (from aiohttp->openai) (1.3.1)\n",
            "Installing collected packages: openai\n",
            "Successfully installed openai-0.27.8\n",
            "\u001b[2K     \u001b[90m━━━━━━━━━━━━━━━━━━━━━━━━━━━━━━━━━━━━━━━━\u001b[0m \u001b[32m1.7/1.7 MB\u001b[0m \u001b[31m10.6 MB/s\u001b[0m eta \u001b[36m0:00:00\u001b[0m\n",
            "\u001b[2K     \u001b[90m━━━━━━━━━━━━━━━━━━━━━━━━━━━━━━━━━━━━━━━━\u001b[0m \u001b[32m1.4/1.4 MB\u001b[0m \u001b[31m7.2 MB/s\u001b[0m eta \u001b[36m0:00:00\u001b[0m\n",
            "\u001b[2K     \u001b[90m━━━━━━━━━━━━━━━━━━━━━━━━━━━━━━━━━━━━━━━\u001b[0m \u001b[32m399.3/399.3 kB\u001b[0m \u001b[31m9.3 MB/s\u001b[0m eta \u001b[36m0:00:00\u001b[0m\n",
            "\u001b[2K     \u001b[90m━━━━━━━━━━━━━━━━━━━━━━━━━━━━━━━━━━━━━━━━\u001b[0m \u001b[32m90.0/90.0 kB\u001b[0m \u001b[31m9.4 MB/s\u001b[0m eta \u001b[36m0:00:00\u001b[0m\n",
            "\u001b[2K     \u001b[90m━━━━━━━━━━━━━━━━━━━━━━━━━━━━━━━━━━━━━━━━\u001b[0m \u001b[32m62.6/62.6 kB\u001b[0m \u001b[31m5.3 MB/s\u001b[0m eta \u001b[36m0:00:00\u001b[0m\n",
            "\u001b[?25h  Installing build dependencies ... \u001b[?25l\u001b[?25hdone\n",
            "  Getting requirements to build wheel ... \u001b[?25l\u001b[?25hdone\n",
            "  Preparing metadata (pyproject.toml) ... \u001b[?25l\u001b[?25hdone\n",
            "\u001b[2K     \u001b[90m━━━━━━━━━━━━━━━━━━━━━━━━━━━━━━━━━━━━━━━━\u001b[0m \u001b[32m58.4/58.4 kB\u001b[0m \u001b[31m4.6 MB/s\u001b[0m eta \u001b[36m0:00:00\u001b[0m\n",
            "\u001b[2K     \u001b[90m━━━━━━━━━━━━━━━━━━━━━━━━━━━━━━━━━━━━━━━━\u001b[0m \u001b[32m59.5/59.5 kB\u001b[0m \u001b[31m4.8 MB/s\u001b[0m eta \u001b[36m0:00:00\u001b[0m\n",
            "\u001b[2K     \u001b[90m━━━━━━━━━━━━━━━━━━━━━━━━━━━━━━━━━━━━━━━━\u001b[0m \u001b[32m5.3/5.3 MB\u001b[0m \u001b[31m19.6 MB/s\u001b[0m eta \u001b[36m0:00:00\u001b[0m\n",
            "\u001b[2K     \u001b[90m━━━━━━━━━━━━━━━━━━━━━━━━━━━━━━━━━━━━━━━━\u001b[0m \u001b[32m5.9/5.9 MB\u001b[0m \u001b[31m35.9 MB/s\u001b[0m eta \u001b[36m0:00:00\u001b[0m\n",
            "\u001b[2K     \u001b[90m━━━━━━━━━━━━━━━━━━━━━━━━━━━━━━━━━━━━━━━━\u001b[0m \u001b[32m7.8/7.8 MB\u001b[0m \u001b[31m52.4 MB/s\u001b[0m eta \u001b[36m0:00:00\u001b[0m\n",
            "\u001b[2K     \u001b[90m━━━━━━━━━━━━━━━━━━━━━━━━━━━━━━━━━━━━━━━━\u001b[0m \u001b[32m67.3/67.3 kB\u001b[0m \u001b[31m7.8 MB/s\u001b[0m eta \u001b[36m0:00:00\u001b[0m\n",
            "\u001b[?25h  Installing build dependencies ... \u001b[?25l\u001b[?25hdone\n",
            "  Getting requirements to build wheel ... \u001b[?25l\u001b[?25hdone\n",
            "  Preparing metadata (pyproject.toml) ... \u001b[?25l\u001b[?25hdone\n",
            "\u001b[2K     \u001b[90m━━━━━━━━━━━━━━━━━━━━━━━━━━━━━━━━━━━━━━━━\u001b[0m \u001b[32m49.4/49.4 kB\u001b[0m \u001b[31m5.0 MB/s\u001b[0m eta \u001b[36m0:00:00\u001b[0m\n",
            "\u001b[2K     \u001b[90m━━━━━━━━━━━━━━━━━━━━━━━━━━━━━━━━━━━━━━━━\u001b[0m \u001b[32m67.0/67.0 kB\u001b[0m \u001b[31m6.6 MB/s\u001b[0m eta \u001b[36m0:00:00\u001b[0m\n",
            "\u001b[2K     \u001b[90m━━━━━━━━━━━━━━━━━━━━━━━━━━━━━━━━━━━━━━━━\u001b[0m \u001b[32m46.0/46.0 kB\u001b[0m \u001b[31m4.6 MB/s\u001b[0m eta \u001b[36m0:00:00\u001b[0m\n",
            "\u001b[2K     \u001b[90m━━━━━━━━━━━━━━━━━━━━━━━━━━━━━━━━━━━━━━━━\u001b[0m \u001b[32m58.3/58.3 kB\u001b[0m \u001b[31m5.5 MB/s\u001b[0m eta \u001b[36m0:00:00\u001b[0m\n",
            "\u001b[2K     \u001b[90m━━━━━━━━━━━━━━━━━━━━━━━━━━━━━━━━━━━━━━\u001b[0m \u001b[32m428.8/428.8 kB\u001b[0m \u001b[31m30.7 MB/s\u001b[0m eta \u001b[36m0:00:00\u001b[0m\n",
            "\u001b[2K     \u001b[90m━━━━━━━━━━━━━━━━━━━━━━━━━━━━━━━━━━━━━━━━\u001b[0m \u001b[32m4.1/4.1 MB\u001b[0m \u001b[31m50.8 MB/s\u001b[0m eta \u001b[36m0:00:00\u001b[0m\n",
            "\u001b[2K     \u001b[90m━━━━━━━━━━━━━━━━━━━━━━━━━━━━━━━━━━━━━━━━\u001b[0m \u001b[32m1.3/1.3 MB\u001b[0m \u001b[31m40.7 MB/s\u001b[0m eta \u001b[36m0:00:00\u001b[0m\n",
            "\u001b[2K     \u001b[90m━━━━━━━━━━━━━━━━━━━━━━━━━━━━━━━━━━━━━━\u001b[0m \u001b[32m129.9/129.9 kB\u001b[0m \u001b[31m11.8 MB/s\u001b[0m eta \u001b[36m0:00:00\u001b[0m\n",
            "\u001b[2K     \u001b[90m━━━━━━━━━━━━━━━━━━━━━━━━━━━━━━━━━━━━━━━━\u001b[0m \u001b[32m86.8/86.8 kB\u001b[0m \u001b[31m8.9 MB/s\u001b[0m eta \u001b[36m0:00:00\u001b[0m\n",
            "\u001b[?25h  Building wheel for chroma-hnswlib (pyproject.toml) ... \u001b[?25l\u001b[?25hdone\n",
            "  Building wheel for pypika (pyproject.toml) ... \u001b[?25l\u001b[?25hdone\n",
            "\u001b[31mERROR: pip's dependency resolver does not currently take into account all the packages that are installed. This behaviour is the source of the following dependency conflicts.\n",
            "google-colab 1.0.0 requires requests==2.27.1, but you have requests 2.31.0 which is incompatible.\u001b[0m\u001b[31m\n",
            "\u001b[0mCollecting python-telegram-bot\n",
            "  Downloading python_telegram_bot-20.4-py3-none-any.whl (549 kB)\n",
            "\u001b[2K     \u001b[90m━━━━━━━━━━━━━━━━━━━━━━━━━━━━━━━━━━━━━━━\u001b[0m \u001b[32m549.0/549.0 kB\u001b[0m \u001b[31m5.0 MB/s\u001b[0m eta \u001b[36m0:00:00\u001b[0m\n",
            "\u001b[?25hCollecting httpx~=0.24.1 (from python-telegram-bot)\n",
            "  Downloading httpx-0.24.1-py3-none-any.whl (75 kB)\n",
            "\u001b[2K     \u001b[90m━━━━━━━━━━━━━━━━━━━━━━━━━━━━━━━━━━━━━━━━\u001b[0m \u001b[32m75.4/75.4 kB\u001b[0m \u001b[31m6.2 MB/s\u001b[0m eta \u001b[36m0:00:00\u001b[0m\n",
            "\u001b[?25hRequirement already satisfied: certifi in /usr/local/lib/python3.10/dist-packages (from httpx~=0.24.1->python-telegram-bot) (2023.5.7)\n",
            "Collecting httpcore<0.18.0,>=0.15.0 (from httpx~=0.24.1->python-telegram-bot)\n",
            "  Downloading httpcore-0.17.3-py3-none-any.whl (74 kB)\n",
            "\u001b[2K     \u001b[90m━━━━━━━━━━━━━━━━━━━━━━━━━━━━━━━━━━━━━━━━\u001b[0m \u001b[32m74.5/74.5 kB\u001b[0m \u001b[31m7.6 MB/s\u001b[0m eta \u001b[36m0:00:00\u001b[0m\n",
            "\u001b[?25hRequirement already satisfied: idna in /usr/local/lib/python3.10/dist-packages (from httpx~=0.24.1->python-telegram-bot) (3.4)\n",
            "Requirement already satisfied: sniffio in /usr/local/lib/python3.10/dist-packages (from httpx~=0.24.1->python-telegram-bot) (1.3.0)\n",
            "Requirement already satisfied: h11<0.15,>=0.13 in /usr/local/lib/python3.10/dist-packages (from httpcore<0.18.0,>=0.15.0->httpx~=0.24.1->python-telegram-bot) (0.14.0)\n",
            "Requirement already satisfied: anyio<5.0,>=3.0 in /usr/local/lib/python3.10/dist-packages (from httpcore<0.18.0,>=0.15.0->httpx~=0.24.1->python-telegram-bot) (3.7.1)\n",
            "Requirement already satisfied: exceptiongroup in /usr/local/lib/python3.10/dist-packages (from anyio<5.0,>=3.0->httpcore<0.18.0,>=0.15.0->httpx~=0.24.1->python-telegram-bot) (1.1.2)\n",
            "Installing collected packages: httpcore, httpx, python-telegram-bot\n",
            "Successfully installed httpcore-0.17.3 httpx-0.24.1 python-telegram-bot-20.4\n",
            "Collecting load_dotenv\n",
            "  Downloading load_dotenv-0.1.0-py3-none-any.whl (7.2 kB)\n",
            "Requirement already satisfied: python-dotenv in /usr/local/lib/python3.10/dist-packages (from load_dotenv) (1.0.0)\n",
            "Installing collected packages: load_dotenv\n",
            "Successfully installed load_dotenv-0.1.0\n"
          ]
        }
      ]
    },
    {
      "cell_type": "code",
      "source": [
        "# подключаем необходимые для работы библиотеки\n",
        "from telegram.ext import Application, CommandHandler\n",
        "from dotenv import load_dotenv\n",
        "import os\n",
        "from google.colab import drive"
      ],
      "metadata": {
        "id": "hNAm8AbWK0Zt"
      },
      "execution_count": 2,
      "outputs": []
    },
    {
      "cell_type": "markdown",
      "source": [
        "## Подключаем Google disk"
      ],
      "metadata": {
        "id": "2W_LsZ96SiVd"
      }
    },
    {
      "cell_type": "code",
      "source": [
        "# Подключаем гугл диск (GDrive)\n",
        "# для этого необходима учетная запись на гугл\n",
        "drive.mount('/content/drive')"
      ],
      "metadata": {
        "colab": {
          "base_uri": "https://localhost:8080/"
        },
        "id": "AFsnzi5xK8PB",
        "outputId": "dba494d8-4b53-4080-ca1c-339cf94f0af7"
      },
      "execution_count": 3,
      "outputs": [
        {
          "output_type": "stream",
          "name": "stdout",
          "text": [
            "Mounted at /content/drive\n"
          ]
        }
      ]
    },
    {
      "cell_type": "markdown",
      "source": [
        "## Создаем каталоги на Google disk.\n",
        "\n",
        "Выполнять  только один раз!"
      ],
      "metadata": {
        "id": "XubjTuhETOvu"
      }
    },
    {
      "cell_type": "code",
      "source": [
        "# Создаём директории в личном хранилище на гугл диске\n",
        "%mkdir -p /content/drive/MyDrive/TGNotebook/TG_bot"
      ],
      "metadata": {
        "id": "cOFCqk9r9ICk"
      },
      "execution_count": null,
      "outputs": []
    },
    {
      "cell_type": "code",
      "source": [
        "# Создаём переменную которая будет хранить ссылку к директории\n",
        "way = '/content/drive/MyDrive/TGNotebook/TG_bot'"
      ],
      "metadata": {
        "id": "MRX_V8jlNAEN"
      },
      "execution_count": null,
      "outputs": []
    },
    {
      "cell_type": "markdown",
      "source": [
        "## Созадем файл окружения для хранения TOKEN и API_KEY.\n",
        "\n",
        "Выполнять  только один раз!"
      ],
      "metadata": {
        "id": "DollMV2iS0WP"
      }
    },
    {
      "cell_type": "code",
      "source": [
        "app_file = '''\n",
        "TOKEN = '???'\n",
        "API_KEY = '???'\n",
        "'''\n",
        "with open(way+'/.env', 'w') as file:\n",
        "    file.write(app_file)"
      ],
      "metadata": {
        "id": "nTIf02q3Odmy"
      },
      "execution_count": null,
      "outputs": []
    },
    {
      "cell_type": "markdown",
      "source": [
        "## В созданную папку TG_bot у себя в Google disk нужно залить файлы отсюда:\n",
        "\n",
        "https://drive.google.com/drive/folders/10z6fYCNTKcO0GTCY3XZInQ6JSLyT6fp8?usp=sharing"
      ],
      "metadata": {
        "id": "sys9TCIGdRwx"
      }
    },
    {
      "cell_type": "markdown",
      "source": [
        "## Запускаем TG ботов"
      ],
      "metadata": {
        "id": "kFvTCt6STn9L"
      }
    },
    {
      "cell_type": "code",
      "source": [
        "%pwd"
      ],
      "metadata": {
        "colab": {
          "base_uri": "https://localhost:8080/",
          "height": 35
        },
        "id": "YjDLQFV2PzTJ",
        "outputId": "390d37ad-ab2c-4418-9220-5195fcb642d7"
      },
      "execution_count": 4,
      "outputs": [
        {
          "output_type": "execute_result",
          "data": {
            "text/plain": [
              "'/content'"
            ],
            "application/vnd.google.colaboratory.intrinsic+json": {
              "type": "string"
            }
          },
          "metadata": {},
          "execution_count": 4
        }
      ]
    },
    {
      "cell_type": "code",
      "source": [
        "%cd /content/drive/MyDrive/TGNotebook/TG_bot"
      ],
      "metadata": {
        "colab": {
          "base_uri": "https://localhost:8080/"
        },
        "id": "9mWcyrt3QHSq",
        "outputId": "dfcfeda3-b8d8-40e9-c289-594b3a964a8d"
      },
      "execution_count": 5,
      "outputs": [
        {
          "output_type": "stream",
          "name": "stdout",
          "text": [
            "/content/drive/MyDrive/TGNotebook/TG_bot\n"
          ]
        }
      ]
    },
    {
      "cell_type": "markdown",
      "source": [
        "### 1. Исходная версия update_context bot\n",
        "\n",
        "см. мини-урок создание ТГ-бота с нейронкой\n",
        "\n",
        "Запись: https://youtu.be/P4avg69mS6c\n",
        "\n",
        "ДЗ и исходники: https://drive.google.com/drive/folders/1SY6wiM1BYkZcf3mWONHudIHfnhQ8BXJn\n",
        "\n",
        "\n",
        "\n"
      ],
      "metadata": {
        "id": "6EeSaX3KUyV6"
      }
    },
    {
      "cell_type": "code",
      "source": [
        "!python /content/drive/MyDrive/TGNotebook/TG_bot/openlesson2_tgbot.py"
      ],
      "metadata": {
        "colab": {
          "base_uri": "https://localhost:8080/"
        },
        "id": "bVLITKKxQslx",
        "outputId": "b65477f4-3e47-4277-be5f-7fb5ed52d304"
      },
      "execution_count": 4,
      "outputs": [
        {
          "output_type": "stream",
          "name": "stdout",
          "text": [
            "Бот запущен..!\n",
            "Update(message=Message(channel_chat_created=False, chat=Chat(first_name='Konstantin Voloshenko', id=902465344, type=<ChatType.PRIVATE>, username='KonstantinVoloshenko'), date=datetime.datetime(2023, 7, 23, 21, 40, 23, tzinfo=<UTC>), delete_chat_photo=False, from_user=User(first_name='Konstantin Voloshenko', id=902465344, is_bot=False, language_code='en', username='KonstantinVoloshenko'), group_chat_created=False, message_id=78, supergroup_chat_created=False, text='jjjj'), update_id=283726741)\n",
            "-------------------\n",
            "text: jjjj\n",
            "date: 2023-07-23 21:40:23+00:00\n",
            "id message: 78\n",
            "name: Konstantin Voloshenko\n",
            "user.id: 902465344\n",
            "-------------------\n",
            "Exception ignored when trying to write to the signal wakeup fd:\n",
            "Traceback (most recent call last):\n",
            "  File \"/usr/lib/python3.10/asyncio/unix_events.py\", line 42, in _sighandler_noop\n",
            "    def _sighandler_noop(signum, frame):\n",
            "OSError: [Errno 9] Bad file descriptor\n"
          ]
        }
      ]
    },
    {
      "cell_type": "markdown",
      "source": [
        "### 2. Версия update_context bot с запросом к ChatGPT\n",
        "см. Пример №1 в Открытый урок по дообучению. Июнь 2023 г\n",
        "\n",
        "Тестовый запрос: Как правильно писать продающие посты в телеграм?\n",
        "\n",
        "\n",
        "Нотебук: https://colab.research.google.com/drive/1D02aZC7Nb7oXERIAni4lkaDOa4UOaN7o#scrollTo=iTXKe1vsVQYF\n",
        "\n",
        "Запись урока: https://youtu.be/9KEvtROY3O8"
      ],
      "metadata": {
        "id": "6tq4s2yzVBnC"
      }
    },
    {
      "cell_type": "code",
      "source": [
        "!python /content/drive/MyDrive/TGNotebook/TG_bot/openlesson2_tgbot_gpt_01.py"
      ],
      "metadata": {
        "colab": {
          "base_uri": "https://localhost:8080/"
        },
        "id": "MnX-hu6FbfJH",
        "outputId": "c026c897-c533-46eb-b3ff-d84203dd92ff"
      },
      "execution_count": 7,
      "outputs": [
        {
          "output_type": "stream",
          "name": "stdout",
          "text": [
            "Бот запущен..!\n",
            "Update(message=Message(channel_chat_created=False, chat=Chat(first_name='Konstantin Voloshenko', id=902465344, type=<ChatType.PRIVATE>, username='KonstantinVoloshenko'), date=datetime.datetime(2023, 7, 23, 11, 51, 48, tzinfo=<UTC>), delete_chat_photo=False, from_user=User(first_name='Konstantin Voloshenko', id=902465344, is_bot=False, language_code='en', username='KonstantinVoloshenko'), group_chat_created=False, message_id=69, supergroup_chat_created=False, text='Тестовый запрос: Как правильно писать продающие посты в телеграм?'), update_id=283726736)\n",
            "-------------------\n",
            "text: Тестовый запрос: Как правильно писать продающие посты в телеграм?\n",
            "date: 2023-07-23 11:51:48+00:00\n",
            "id message: 69\n",
            "name: Konstantin Voloshenko\n",
            "user.id: 902465344\n",
            "-------------------\n",
            "t_system=Ты - Эксперт по продвижению товаров в телеграм\n",
            "t_user=Тестовый запрос: Как правильно писать продающие посты в телеграм?\n",
            "Update(message=Message(channel_chat_created=False, chat=Chat(first_name='Konstantin Voloshenko', id=902465344, type=<ChatType.PRIVATE>, username='KonstantinVoloshenko'), date=datetime.datetime(2023, 7, 23, 11, 52, 43, tzinfo=<UTC>), delete_chat_photo=False, from_user=User(first_name='Konstantin Voloshenko', id=902465344, is_bot=False, language_code='en', username='KonstantinVoloshenko'), group_chat_created=False, message_id=71, supergroup_chat_created=False, text='Как правильно писать личный  посты в телеграм?'), update_id=283726737)\n",
            "-------------------\n",
            "text: Как правильно писать личный  посты в телеграм?\n",
            "date: 2023-07-23 11:52:43+00:00\n",
            "id message: 71\n",
            "name: Konstantin Voloshenko\n",
            "user.id: 902465344\n",
            "-------------------\n",
            "t_system=Ты - Эксперт по продвижению товаров в телеграм\n",
            "t_user=Как правильно писать личный  посты в телеграм?\n",
            "No error handlers are registered, logging exception.\n",
            "Traceback (most recent call last):\n",
            "  File \"/usr/local/lib/python3.10/dist-packages/telegram/ext/_application.py\", line 1173, in process_update\n",
            "    await coroutine\n",
            "  File \"/usr/local/lib/python3.10/dist-packages/telegram/ext/_basehandler.py\", line 141, in handle_update\n",
            "    return await self.callback(update, context)\n",
            "  File \"/content/drive/MyDrive/TGNotebook/TG_bot/openlesson2_tgbot_gpt_01.py\", line 60, in text\n",
            "    gm = tg_gpt_01(t_system,t_user)\n",
            "  File \"/content/drive/MyDrive/TGNotebook/TG_bot/openlesson2_tgbot_gpt_01.py\", line 27, in tg_gpt_01\n",
            "    result = chat_gpt.openai.ChatCompletion.create(\n",
            "  File \"/usr/local/lib/python3.10/dist-packages/openai/api_resources/chat_completion.py\", line 25, in create\n",
            "    return super().create(*args, **kwargs)\n",
            "  File \"/usr/local/lib/python3.10/dist-packages/openai/api_resources/abstract/engine_api_resource.py\", line 153, in create\n",
            "    response, _, api_key = requestor.request(\n",
            "  File \"/usr/local/lib/python3.10/dist-packages/openai/api_requestor.py\", line 298, in request\n",
            "    resp, got_stream = self._interpret_response(result, stream)\n",
            "  File \"/usr/local/lib/python3.10/dist-packages/openai/api_requestor.py\", line 700, in _interpret_response\n",
            "    self._interpret_response_line(\n",
            "  File \"/usr/local/lib/python3.10/dist-packages/openai/api_requestor.py\", line 763, in _interpret_response_line\n",
            "    raise self.handle_error_response(\n",
            "openai.error.APIError: Bad gateway. {\"error\":{\"code\":502,\"message\":\"Bad gateway.\",\"param\":null,\"type\":\"cf_bad_gateway\"}} 502 {'error': {'code': 502, 'message': 'Bad gateway.', 'param': None, 'type': 'cf_bad_gateway'}} {'Date': 'Sun, 23 Jul 2023 11:58:18 GMT', 'Content-Type': 'application/json', 'Content-Length': '84', 'Connection': 'keep-alive', 'X-Frame-Options': 'SAMEORIGIN', 'Referrer-Policy': 'same-origin', 'Cache-Control': 'private, max-age=0, no-store, no-cache, must-revalidate, post-check=0, pre-check=0', 'Expires': 'Thu, 01 Jan 1970 00:00:01 GMT', 'Server': 'cloudflare', 'CF-RAY': '7eb3b8081d783078-SEA', 'alt-svc': 'h3=\":443\"; ma=86400'}\n",
            "Update(message=Message(channel_chat_created=False, chat=Chat(first_name='Konstantin Voloshenko', id=902465344, type=<ChatType.PRIVATE>, username='KonstantinVoloshenko'), date=datetime.datetime(2023, 7, 23, 11, 58, 52, tzinfo=<UTC>), delete_chat_photo=False, from_user=User(first_name='Konstantin Voloshenko', id=902465344, is_bot=False, language_code='en', username='KonstantinVoloshenko'), group_chat_created=False, message_id=72, supergroup_chat_created=False, text='Как правильно писать личный  посты в телеграм?'), update_id=283726738)\n",
            "-------------------\n",
            "text: Как правильно писать личный  посты в телеграм?\n",
            "date: 2023-07-23 11:58:52+00:00\n",
            "id message: 72\n",
            "name: Konstantin Voloshenko\n",
            "user.id: 902465344\n",
            "-------------------\n",
            "t_system=Ты - Эксперт по продвижению товаров в телеграм\n",
            "t_user=Как правильно писать личный  посты в телеграм?\n",
            "^C\n"
          ]
        }
      ]
    },
    {
      "cell_type": "markdown",
      "source": [
        "### 3. Версия update_context bot с запросом к ChatGPT с дообучением\n",
        "\n",
        "Тестовый запрос: сколько времени нужно будет уделять учебе, чтобы освоить всю программу?\n",
        "\n",
        "см. Пример №1 в разделе Ответы на вопросы по маркетинговой базе данных\n",
        "\n",
        "Открытый урок по дообучению. Июнь 2023 г\n",
        "\n",
        "Нотебук: https://colab.research.google.com/drive/1D02aZC7Nb7oXERIAni4lkaDOa4UOaN7o#scrollTo=iTXKe1vsVQYF\n",
        "\n",
        "Запись урока: https://youtu.be/9KEvtROY3O8"
      ],
      "metadata": {
        "id": "PFDETiYaWRVb"
      }
    },
    {
      "cell_type": "code",
      "source": [
        "!python /content/drive/MyDrive/TGNotebook/TG_bot/openlesson2_tgbot_gpt_02.py"
      ],
      "metadata": {
        "colab": {
          "base_uri": "https://localhost:8080/"
        },
        "id": "c-pVVA0Ey3jd",
        "outputId": "2965c8c8-efe5-4694-f920-968dc5ed5f10"
      },
      "execution_count": null,
      "outputs": [
        {
          "output_type": "stream",
          "name": "stdout",
          "text": [
            "Бот запущен..!\n"
          ]
        }
      ]
    }
  ]
}