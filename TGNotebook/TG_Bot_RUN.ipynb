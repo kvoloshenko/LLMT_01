{
  "cells": [
    {
      "cell_type": "code",
      "execution_count": null,
      "metadata": {
        "id": "sX3ZyYb_Kc9C"
      },
      "outputs": [],
      "source": [
        "# Телеграмм бот для Атикафе Мансарда\n",
        "# Установка библиотек\n",
        "!pip -q install --upgrade tiktoken\n",
        "!pip install openai==0.27.8\n",
        "!pip -q install --upgrade tiktoken\n",
        "!pip -q install langchain faiss-cpu\n",
        "!pip install python-telegram-bot\n",
        "!pip install load_dotenv\n",
        "# подключаем необходимые для работы библиотеки\n",
        "from google.colab import drive"
      ]
    },
    {
      "cell_type": "code",
      "execution_count": null,
      "metadata": {
        "id": "AFsnzi5xK8PB"
      },
      "outputs": [],
      "source": [
        "# Подключаем Google disk\n",
        "# для этого необходима учетная запись на гугл\n",
        "drive.mount('/content/drive')"
      ]
    },
    {
      "cell_type": "code",
      "execution_count": null,
      "metadata": {
        "colab": {
          "background_save": true
        },
        "id": "qoDl6tcASuJS"
      },
      "outputs": [],
      "source": [
        "# Переходим в папку бота\n",
        "%cd /content/drive/MyDrive/bot/Python\n",
        "# Запускаем TG ботa\n",
        "!python /content/drive/MyDrive/bot/Python/platon_tgbot_gpt.py"
      ]
    }
  ],
  "metadata": {
    "colab": {
      "provenance": []
    },
    "kernelspec": {
      "display_name": "Python 3",
      "name": "python3"
    },
    "language_info": {
      "name": "python"
    }
  },
  "nbformat": 4,
  "nbformat_minor": 0
}