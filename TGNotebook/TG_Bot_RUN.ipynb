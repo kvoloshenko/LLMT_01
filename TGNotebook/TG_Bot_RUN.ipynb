{
  "nbformat": 4,
  "nbformat_minor": 0,
  "metadata": {
    "colab": {
      "provenance": []
    },
    "kernelspec": {
      "name": "python3",
      "display_name": "Python 3"
    },
    "language_info": {
      "name": "python"
    }
  },
  "cells": [
    {
      "cell_type": "markdown",
      "source": [
        "# Телеграмм бот для Атикафе"
      ],
      "metadata": {
        "id": "O0HfqcpbJFsi"
      }
    },
    {
      "cell_type": "code",
      "source": [
        "# Установка библиотек\n",
        "!pip install openai\n",
        "!pip -q install --upgrade tiktoken\n",
        "!pip -q install langchain faiss-cpu\n",
        "!pip install python-telegram-bot\n",
        "!pip install load_dotenv\n",
        "# подключаем необходимые для работы библиотеки\n",
        "from google.colab import drive"
      ],
      "metadata": {
        "id": "sX3ZyYb_Kc9C"
      },
      "execution_count": null,
      "outputs": []
    },
    {
      "cell_type": "code",
      "source": [
        "# Подключаем Google disk\n",
        "# для этого необходима учетная запись на гугл\n",
        "drive.mount('/content/drive')"
      ],
      "metadata": {
        "id": "AFsnzi5xK8PB"
      },
      "execution_count": null,
      "outputs": []
    },
    {
      "cell_type": "code",
      "source": [
        "# Переходим в папку бота\n",
        "%cd /content/drive/MyDrive/TGNotebook_04/Python\n",
        "# Запускаем TG ботa\n",
        "!python /content/drive/MyDrive/TGNotebook_04/Python/platon_tgbot_gpt.py"
      ],
      "metadata": {
        "id": "9mWcyrt3QHSq"
      },
      "execution_count": null,
      "outputs": []
    }
  ]
}