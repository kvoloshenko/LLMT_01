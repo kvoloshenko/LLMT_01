{
  "nbformat": 4,
  "nbformat_minor": 0,
  "metadata": {
    "colab": {
      "provenance": []
    },
    "kernelspec": {
      "name": "python3",
      "display_name": "Python 3"
    },
    "language_info": {
      "name": "python"
    }
  },
  "cells": [
    {
      "cell_type": "markdown",
      "source": [
        "# Создание Telegram-ботов с ChatGPT\n",
        "\n",
        "**Предварительные действия:**\n",
        "\n",
        "1. Зарегистрировать свой TG bot c помощью @BotFather и **получить TOKEN**.\n",
        "\n",
        "2. Получить **Open AI API_KEY**\n",
        "\n"
      ],
      "metadata": {
        "id": "HENbXEGzKaIs"
      }
    },
    {
      "cell_type": "markdown",
      "source": [
        "## Установка библиотек. Сервисные функции"
      ],
      "metadata": {
        "id": "ZOt0YU6GSX0E"
      }
    },
    {
      "cell_type": "code",
      "source": [
        "# Установка библиотек\n",
        "!pip install openai\n",
        "!pip -q install --upgrade tiktoken\n",
        "!pip -q install langchain faiss-cpu\n",
        "!pip install python-telegram-bot\n",
        "!pip install load_dotenv\n",
        "# подключаем необходимые для работы библиотеки\n",
        "from google.colab import drive"
      ],
      "metadata": {
        "id": "sX3ZyYb_Kc9C"
      },
      "execution_count": null,
      "outputs": []
    },
    {
      "cell_type": "markdown",
      "source": [
        "## Подключаем Google disk"
      ],
      "metadata": {
        "id": "2W_LsZ96SiVd"
      }
    },
    {
      "cell_type": "code",
      "source": [
        "# Подключаем гугл диск (GDrive)\n",
        "# для этого необходима учетная запись на гугл\n",
        "drive.mount('/content/drive')"
      ],
      "metadata": {
        "id": "AFsnzi5xK8PB",
        "colab": {
          "base_uri": "https://localhost:8080/"
        },
        "outputId": "bb225e26-1e7f-420d-c2a4-0f394774465e"
      },
      "execution_count": null,
      "outputs": [
        {
          "output_type": "stream",
          "name": "stdout",
          "text": [
            "Mounted at /content/drive\n"
          ]
        }
      ]
    },
    {
      "cell_type": "markdown",
      "source": [
        "## Создаем каталоги на Google disk.\n",
        "\n",
        "**Выполнять  только один раз!**"
      ],
      "metadata": {
        "id": "XubjTuhETOvu"
      }
    },
    {
      "cell_type": "code",
      "source": [
        "from google import colab\n",
        "# Создаём директории в личном хранилище на гугл диске\n",
        "%mkdir -p /content/drive/MyDrive/TGNotebook_04\n",
        "# Создаём переменную которая будет хранить ссылку к директории\n",
        "way = '/content/drive/MyDrive/TGNotebook_04/Python'"
      ],
      "metadata": {
        "id": "cOFCqk9r9ICk"
      },
      "execution_count": null,
      "outputs": []
    },
    {
      "cell_type": "markdown",
      "source": [
        "В созданную папку TG_bot у себя в Google disk нужно залить файлы отсюда:\n",
        "\n",
        "https://drive.google.com/file/d/1DHsD3mxDSplmsR5ncUSsmjLpdSQN9hiS/view?usp=sharing"
      ],
      "metadata": {
        "id": "X0CuhYH7xxzd"
      }
    },
    {
      "cell_type": "code",
      "source": [
        "# Переходим в папку TGBot_UII\n",
        "%cd /content/drive/MyDrive/TGNotebook_04\n",
        "# Распаковываем файл UII_Pablic-20230812T144427Z-001.zip\n",
        "!unzip -qo /content/drive/MyDrive/TGNotebook_04/drive-download-20230828T195544Z-001.zip"
      ],
      "metadata": {
        "id": "yTGZzQ1bO69A"
      },
      "execution_count": null,
      "outputs": []
    },
    {
      "cell_type": "markdown",
      "source": [
        "## Созадем файл окружения для хранения параметров и закачиваем модули.\n",
        "\n",
        "**Повторно выполнять только если нужно обновить значения !**"
      ],
      "metadata": {
        "id": "DollMV2iS0WP"
      }
    },
    {
      "cell_type": "code",
      "source": [
        "app_file = '''\n",
        "TOKEN = '???'        # TG bot token\n",
        "API_KEY = '???'      # Open AI API Key\n",
        "SYSTEM_DOC_URL = 'https://docs.google.com/document/d/1-vSUkd--iXVoZbxFNUuwCxlonvargB84'     # Промпт\n",
        "KNOWLEDGE_BASE_URL = 'https://docs.google.com/document/d/1-v4TCNmZyvgGbEInifI6SLHeienOoZZn' # База знаний\n",
        "TEMPERATURE = 0.2                 # Температура модели\n",
        "NUMBER_RELEVANT_CHUNKS = 5        # Количество релевантных чанков\n",
        "CHUNK_SIZE = 1024                 # Количество токинов в  чанке\n",
        "LL_MODEL = \"gpt-3.5-turbo-0613\"   # Модель\n",
        "TEXT_BEGINNING = '*** Bot is talking to you: ***'\n",
        "TEXT_END = '*** Check the information with the manager! ***'\n",
        "QUESTION_FILTER = '@userTestbot'\n",
        "\n",
        "'''\n",
        "with open(way+'/.env', 'w') as file:\n",
        "    file.write(app_file)"
      ],
      "metadata": {
        "id": "nTIf02q3Odmy"
      },
      "execution_count": null,
      "outputs": []
    },
    {
      "cell_type": "markdown",
      "source": [
        "## Запускаем TG бота"
      ],
      "metadata": {
        "id": "kFvTCt6STn9L"
      }
    },
    {
      "cell_type": "code",
      "source": [
        "# Переходим в папку бота\n",
        "%cd /content/drive/MyDrive/TGNotebook_04/Python\n",
        "# Запускаем TG ботa\n",
        "!python /content/drive/MyDrive/TGNotebook_04/Python/platon_tgbot_gpt.py"
      ],
      "metadata": {
        "id": "c-pVVA0Ey3jd"
      },
      "execution_count": null,
      "outputs": []
    }
  ]
}