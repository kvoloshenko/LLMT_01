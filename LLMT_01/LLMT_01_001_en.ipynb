{
  "nbformat": 4,
  "nbformat_minor": 0,
  "metadata": {
    "colab": {
      "provenance": [],
      "collapsed_sections": [
        "w3zhqjRUXnwg",
        "PoIz8Hh30A_N",
        "jJLX5JHD0NH2",
        "eWS8UNbF0aAF",
        "1Dht5DLO0s_V",
        "qCqxIWllq7hy",
        "EpcONB3ottf4"
      ]
    },
    "kernelspec": {
      "name": "python3",
      "display_name": "Python 3"
    },
    "language_info": {
      "name": "python"
    }
  },
  "cells": [
    {
      "cell_type": "markdown",
      "source": [
        "# LangChain\n",
        "\n",
        "The sourse idea is here https://youtu.be/aywZrzNaKjs"
      ],
      "metadata": {
        "id": "w3zhqjRUXnwg"
      }
    },
    {
      "cell_type": "markdown",
      "source": [
        "## Installing libraries. Service functions"
      ],
      "metadata": {
        "id": "PoIz8Hh30A_N"
      }
    },
    {
      "cell_type": "code",
      "source": [
        "!pip -q install langchain==0.0.137\n",
        "!pip -q install openai"
      ],
      "metadata": {
        "id": "uxDtIkKKXrrm"
      },
      "execution_count": null,
      "outputs": []
    },
    {
      "cell_type": "code",
      "source": [
        "!pip -q install --upgrade tiktoken"
      ],
      "metadata": {
        "id": "c6vrL7JB28XH"
      },
      "execution_count": null,
      "outputs": []
    },
    {
      "cell_type": "code",
      "source": [
        "# !pip -q install openai chromadb"
      ],
      "metadata": {
        "id": "YB4xYxJzxY4n"
      },
      "execution_count": null,
      "outputs": []
    },
    {
      "cell_type": "code",
      "source": [
        "import os\n",
        "import ipywidgets as widgets\n",
        "\n",
        "class bcolors:\n",
        "    HEADER = '\\033[95m'\n",
        "    OKBLUE = '\\033[94m'\n",
        "    OKCYAN = '\\033[96m'\n",
        "    OKGREEN = '\\033[92m'\n",
        "    WARNING = '\\033[93m'\n",
        "    FAIL = '\\033[91m'\n",
        "    ENDC = '\\033[0m'\n",
        "    BOLD = '\\033[1m'\n",
        "    UNDERLINE = '\\033[4m'\n",
        "\n",
        "class MyTools():\n",
        "  def __init__(self):\n",
        "    pass\n",
        "\n",
        "  @classmethod\n",
        "  def set_key(cls):\n",
        "      password_input = widgets.Password(\n",
        "          description='Enter OpenAi API key:',\n",
        "          layout=widgets.Layout(width='500px'),\n",
        "          style={'description_width': 'initial', 'white-space': 'pre-wrap', 'overflow': 'auto'})\n",
        "      login_button = widgets.Button(description='Authorization')\n",
        "      output = widgets.Output()\n",
        "\n",
        "      def on_button_clicked(_):\n",
        "          with output:\n",
        "              api_key = password_input.value\n",
        "              os.environ[\"OPENAI_API_KEY\"] = api_key\n",
        "              print(f'{bcolors.OKGREEN}{bcolors.BOLD}Key saved!{bcolors.ENDC}')\n",
        "              password_input.layout.display = 'none'\n",
        "              login_button.layout.display = 'none'\n",
        "\n",
        "      login_button.on_click(on_button_clicked)\n",
        "      display(widgets.VBox([password_input, login_button, output]))\n",
        "\n"
      ],
      "metadata": {
        "id": "4rPCVCTkbRjd"
      },
      "execution_count": null,
      "outputs": []
    },
    {
      "cell_type": "markdown",
      "source": [
        "## Set up the OpenAI API key"
      ],
      "metadata": {
        "id": "jJLX5JHD0NH2"
      }
    },
    {
      "cell_type": "code",
      "source": [
        "tools = MyTools()\n",
        "MyTools.set_key()"
      ],
      "metadata": {
        "id": "4Hu0481obkC-"
      },
      "execution_count": null,
      "outputs": []
    },
    {
      "cell_type": "markdown",
      "source": [
        "## 1. Basic query with OpenAI wrapper"
      ],
      "metadata": {
        "id": "eWS8UNbF0aAF"
      }
    },
    {
      "cell_type": "code",
      "source": [
        "# Run basic query with OpenAI wrapper\n",
        "from langchain.llms import OpenAI\n",
        "llm = OpenAI(model_name=\"text-davinci-003\")\n",
        "llm(\"explain large language models in one sentence\")"
      ],
      "metadata": {
        "id": "REjvMeZ4YmA_"
      },
      "execution_count": null,
      "outputs": []
    },
    {
      "cell_type": "code",
      "source": [
        "# import schema for chat messages and ChatOpenAI in order to query chatmodels GPT-3.5-turbo or GPT-4\n",
        "\n",
        "from langchain.schema import (\n",
        "    AIMessage,\n",
        "    HumanMessage,\n",
        "    SystemMessage\n",
        ")\n",
        "from langchain.chat_models import ChatOpenAI"
      ],
      "metadata": {
        "id": "OT1peKTpb9g2"
      },
      "execution_count": null,
      "outputs": []
    },
    {
      "cell_type": "code",
      "source": [
        "chat = ChatOpenAI(model_name=\"gpt-3.5-turbo\",temperature=0.3)\n",
        "messages = [\n",
        "    SystemMessage(content=\"You are an expert data scientist\"),\n",
        "    HumanMessage(content=\"Write a Python script that trains a neural network on simulated data \")\n",
        "]\n",
        "response=chat(messages)\n",
        "\n",
        "print(response.content,end='\\n')"
      ],
      "metadata": {
        "colab": {
          "base_uri": "https://localhost:8080/"
        },
        "id": "DZTaaBX1cK2W",
        "outputId": "2f9801f8-d73b-48df-d94b-941f3e3b92df"
      },
      "execution_count": null,
      "outputs": [
        {
          "output_type": "stream",
          "name": "stdout",
          "text": [
            "Sure! Here's an example of a Python script that trains a neural network on simulated data using the Keras library:\n",
            "\n",
            "```python\n",
            "import numpy as np\n",
            "from keras.models import Sequential\n",
            "from keras.layers import Dense\n",
            "\n",
            "# Generate simulated data\n",
            "np.random.seed(0)\n",
            "X = np.random.rand(100, 2)\n",
            "y = np.random.randint(2, size=(100, 1))\n",
            "\n",
            "# Create a neural network model\n",
            "model = Sequential()\n",
            "model.add(Dense(4, input_dim=2, activation='relu'))\n",
            "model.add(Dense(1, activation='sigmoid'))\n",
            "\n",
            "# Compile the model\n",
            "model.compile(loss='binary_crossentropy', optimizer='adam', metrics=['accuracy'])\n",
            "\n",
            "# Train the model\n",
            "model.fit(X, y, epochs=10, batch_size=10)\n",
            "\n",
            "# Evaluate the model\n",
            "loss, accuracy = model.evaluate(X, y)\n",
            "print(f'Loss: {loss}, Accuracy: {accuracy}')\n",
            "```\n",
            "\n",
            "In this script, we first generate simulated data using `np.random.rand` and `np.random.randint`. We then create a neural network model using the `Sequential` class from Keras. The model consists of two dense layers with ReLU and sigmoid activations, respectively.\n",
            "\n",
            "Next, we compile the model using the binary cross-entropy loss function and the Adam optimizer. We specify that we want to track the accuracy metric during training.\n",
            "\n",
            "We then train the model using the `fit` method, passing in the simulated data `X` and `y`, the number of epochs, and the batch size.\n",
            "\n",
            "Finally, we evaluate the trained model on the same data and print the loss and accuracy.\n"
          ]
        }
      ]
    },
    {
      "cell_type": "markdown",
      "source": [
        "## 2. Prompt Template"
      ],
      "metadata": {
        "id": "1Dht5DLO0s_V"
      }
    },
    {
      "cell_type": "code",
      "source": [
        "# Import prompt and define PromptTemplate\n",
        "\n",
        "from langchain import PromptTemplate\n",
        "\n",
        "template = \"\"\"\n",
        "You are an expert data scientist with an expertise in building deep learning models.\n",
        "Explain the concept of {concept} in a couple of lines\n",
        "\"\"\"\n",
        "\n",
        "prompt = PromptTemplate(\n",
        "    input_variables=[\"concept\"],\n",
        "    template=template,\n",
        ")"
      ],
      "metadata": {
        "id": "1uNmK2R5dsqX"
      },
      "execution_count": null,
      "outputs": []
    },
    {
      "cell_type": "code",
      "source": [
        "prompt"
      ],
      "metadata": {
        "colab": {
          "base_uri": "https://localhost:8080/"
        },
        "id": "2kp4-ogqeXfW",
        "outputId": "532b8485-db2c-4eff-9777-24969795b671"
      },
      "execution_count": null,
      "outputs": [
        {
          "output_type": "execute_result",
          "data": {
            "text/plain": [
              "PromptTemplate(input_variables=['concept'], output_parser=None, partial_variables={}, template='\\nYou are an expert data scientist with an expertise in building deep learning models.\\nExplain the concept of {concept} in a couple of lines\\n', template_format='f-string', validate_template=True)"
            ]
          },
          "metadata": {},
          "execution_count": 10
        }
      ]
    },
    {
      "cell_type": "code",
      "source": [
        "# Run LLM with PromptTemplate\n",
        "\n",
        "llm(prompt.format(concept=\"autoencoder\"))"
      ],
      "metadata": {
        "colab": {
          "base_uri": "https://localhost:8080/",
          "height": 53
        },
        "id": "-fRvpOoTd0Xe",
        "outputId": "0a8243ff-e048-492f-dedf-2da80897c93f"
      },
      "execution_count": null,
      "outputs": [
        {
          "output_type": "execute_result",
          "data": {
            "text/plain": [
              "'\\nAn autoencoder is a type of artificial neural network that is used to learn a compressed representation (encoding) of the input data, usually for the purpose of dimensionality reduction. The network is trained to reconstruct the original input from the encoded representation.'"
            ],
            "application/vnd.google.colaboratory.intrinsic+json": {
              "type": "string"
            }
          },
          "metadata": {},
          "execution_count": 11
        }
      ]
    },
    {
      "cell_type": "code",
      "source": [
        "llm(prompt.format(concept=\"regularization\"))"
      ],
      "metadata": {
        "colab": {
          "base_uri": "https://localhost:8080/",
          "height": 53
        },
        "id": "v_jSuA9Ve3z-",
        "outputId": "6b50d5fb-a991-4ae4-e572-94607b331608"
      },
      "execution_count": null,
      "outputs": [
        {
          "output_type": "execute_result",
          "data": {
            "text/plain": [
              "'\\nRegularization is a technique used in machine learning to reduce the complexity of models by adding a penalty to the loss function. This penalty term reduces the magnitude of the weights of the model, which in turn reduces overfitting and improves the generalization of the model.'"
            ],
            "application/vnd.google.colaboratory.intrinsic+json": {
              "type": "string"
            }
          },
          "metadata": {},
          "execution_count": 12
        }
      ]
    },
    {
      "cell_type": "markdown",
      "source": [
        "## 3. Chains"
      ],
      "metadata": {
        "id": "qCqxIWllq7hy"
      }
    },
    {
      "cell_type": "code",
      "source": [
        "# Import LLMChain and define chain with language model and prompt as arguments.\n",
        "\n",
        "from langchain.chains import LLMChain\n",
        "chain = LLMChain(llm=llm, prompt=prompt)\n",
        "\n",
        "# Run the chain only specifying the input variable.\n",
        "print(chain.run(\"autoencoder\"))"
      ],
      "metadata": {
        "colab": {
          "base_uri": "https://localhost:8080/"
        },
        "id": "2hLiSCOZedEW",
        "outputId": "fc274ebf-9859-416c-aa8c-13b1b7d7fe66"
      },
      "execution_count": null,
      "outputs": [
        {
          "output_type": "stream",
          "name": "stdout",
          "text": [
            "\n",
            "Autoencoders are a type of deep learning model that can be used to learn an efficient representation of data (called an \"encoding\") by training a neural network to learn to reconstruct its input. This can be used for data compression, feature extraction, and dimensionality reduction.\n"
          ]
        }
      ]
    },
    {
      "cell_type": "code",
      "source": [
        "# Define a second prompt\n",
        "\n",
        "second_prompt = PromptTemplate(\n",
        "    input_variables=[\"ml_concept\"],\n",
        "    template=\"Turn the concept description of {ml_concept} and explain it to me like I'm five in 500 words\",\n",
        ")\n",
        "chain_two = LLMChain(llm=llm, prompt=second_prompt)"
      ],
      "metadata": {
        "id": "ziZoRTEMf3qz"
      },
      "execution_count": null,
      "outputs": []
    },
    {
      "cell_type": "code",
      "source": [
        "# Define a sequential chain using the two chains above: the second chain takes the output of the first chain as input\n",
        "\n",
        "from langchain.chains import SimpleSequentialChain\n",
        "overall_chain = SimpleSequentialChain(chains=[chain, chain_two], verbose=True)\n",
        "\n",
        "# Run the chain specifying only the input variable for the first chain.\n",
        "explanation = overall_chain.run(\"autoencoder\")\n",
        "print(explanation)"
      ],
      "metadata": {
        "colab": {
          "base_uri": "https://localhost:8080/"
        },
        "id": "Rp6L6D_vgTIg",
        "outputId": "9cd266c9-9876-4f12-ac1e-76dfb082579b"
      },
      "execution_count": null,
      "outputs": [
        {
          "output_type": "stream",
          "name": "stdout",
          "text": [
            "\n",
            "\n",
            "\u001b[1m> Entering new SimpleSequentialChain chain...\u001b[0m\n"
          ]
        },
        {
          "output_type": "stream",
          "name": "stderr",
          "text": [
            "WARNING:langchain.llms.openai:Retrying langchain.llms.openai.completion_with_retry.<locals>._completion_with_retry in 4.0 seconds as it raised RateLimitError: Rate limit reached for default-text-davinci-003 in organization org-5sX1hvucs2WOlZFfdAjz7lv6 on requests per min. Limit: 3 / min. Please try again in 20s. Contact us through our help center at help.openai.com if you continue to have issues. Please add a payment method to your account to increase your rate limit. Visit https://platform.openai.com/account/billing to add a payment method..\n"
          ]
        },
        {
          "output_type": "stream",
          "name": "stdout",
          "text": [
            "\u001b[36;1m\u001b[1;3m\n",
            "An autoencoder is a type of artificial neural network that is used to learn a compressed representation of data (known as an encoding) by training the network to reconstruct its original input. This is done by forcing the network to learn a latent space representation of the data that is smaller than the original input.\u001b[0m\n"
          ]
        },
        {
          "output_type": "stream",
          "name": "stderr",
          "text": [
            "WARNING:langchain.llms.openai:Retrying langchain.llms.openai.completion_with_retry.<locals>._completion_with_retry in 4.0 seconds as it raised RateLimitError: Rate limit reached for default-text-davinci-003 in organization org-5sX1hvucs2WOlZFfdAjz7lv6 on requests per min. Limit: 3 / min. Please try again in 20s. Contact us through our help center at help.openai.com if you continue to have issues. Please add a payment method to your account to increase your rate limit. Visit https://platform.openai.com/account/billing to add a payment method..\n",
            "WARNING:langchain.llms.openai:Retrying langchain.llms.openai.completion_with_retry.<locals>._completion_with_retry in 4.0 seconds as it raised RateLimitError: Rate limit reached for default-text-davinci-003 in organization org-5sX1hvucs2WOlZFfdAjz7lv6 on requests per min. Limit: 3 / min. Please try again in 20s. Contact us through our help center at help.openai.com if you continue to have issues. Please add a payment method to your account to increase your rate limit. Visit https://platform.openai.com/account/billing to add a payment method..\n"
          ]
        },
        {
          "output_type": "stream",
          "name": "stdout",
          "text": [
            "\u001b[33;1m\u001b[1;3m\n",
            "\n",
            "An autoencoder is a type of computer program that can learn how to do something. It can learn by looking at examples and then trying to figure out how to do the same thing. Autoencoders are used to learn how to take data and make it smaller. \n",
            "\n",
            "Think of it like having a bunch of boxes and you want to put them in a smaller box. You can take each of the boxes and place them in the smaller box, but it doesn't always work out perfectly. You might have to stack the boxes, or put some of them on top of each other. That's what an autoencoder can do - it can look at the data and figure out how to make it fit into a smaller space. \n",
            "\n",
            "The way an autoencoder works is by training itself to take a large amount of data and then create a smaller representation of that data. This is known as an encoding. It does this by learning a \"latent space\" representation of the data, which is a kind of map of how the data is organized. This map is smaller than the original data, but still contains important information about the data. \n",
            "\n",
            "Once the autoencoder has learned how to create a smaller\u001b[0m\n",
            "\n",
            "\u001b[1m> Finished chain.\u001b[0m\n",
            "\n",
            "\n",
            "An autoencoder is a type of computer program that can learn how to do something. It can learn by looking at examples and then trying to figure out how to do the same thing. Autoencoders are used to learn how to take data and make it smaller. \n",
            "\n",
            "Think of it like having a bunch of boxes and you want to put them in a smaller box. You can take each of the boxes and place them in the smaller box, but it doesn't always work out perfectly. You might have to stack the boxes, or put some of them on top of each other. That's what an autoencoder can do - it can look at the data and figure out how to make it fit into a smaller space. \n",
            "\n",
            "The way an autoencoder works is by training itself to take a large amount of data and then create a smaller representation of that data. This is known as an encoding. It does this by learning a \"latent space\" representation of the data, which is a kind of map of how the data is organized. This map is smaller than the original data, but still contains important information about the data. \n",
            "\n",
            "Once the autoencoder has learned how to create a smaller\n"
          ]
        }
      ]
    },
    {
      "cell_type": "markdown",
      "source": [
        "## 4. Embeddings and VectorStores"
      ],
      "metadata": {
        "id": "EpcONB3ottf4"
      }
    },
    {
      "cell_type": "code",
      "source": [
        "# Import utility for splitting up texts and split up the explanation given above into document chunks\n",
        "\n",
        "from langchain.text_splitter import RecursiveCharacterTextSplitter\n",
        "\n",
        "text_splitter = RecursiveCharacterTextSplitter(\n",
        "    chunk_size = 100,\n",
        "    chunk_overlap  = 0,\n",
        ")\n",
        "\n",
        "texts = text_splitter.create_documents([explanation])"
      ],
      "metadata": {
        "id": "6yeAN43qtw--"
      },
      "execution_count": null,
      "outputs": []
    },
    {
      "cell_type": "code",
      "source": [
        "texts"
      ],
      "metadata": {
        "colab": {
          "base_uri": "https://localhost:8080/"
        },
        "id": "V8ep3r7R2kp2",
        "outputId": "224a0077-a3b5-4576-e1b2-46328f2b4df2"
      },
      "execution_count": null,
      "outputs": [
        {
          "output_type": "execute_result",
          "data": {
            "text/plain": [
              "[Document(page_content='An autoencoder is a type of computer program that can learn how to do something. It can learn by', metadata={}),\n",
              " Document(page_content='looking at examples and then trying to figure out how to do the same thing. Autoencoders are used to', metadata={}),\n",
              " Document(page_content='learn how to take data and make it smaller.', metadata={}),\n",
              " Document(page_content='Think of it like having a bunch of boxes and you want to put them in a smaller box. You can take', metadata={}),\n",
              " Document(page_content=\"each of the boxes and place them in the smaller box, but it doesn't always work out perfectly. You\", metadata={}),\n",
              " Document(page_content=\"might have to stack the boxes, or put some of them on top of each other. That's what an autoencoder\", metadata={}),\n",
              " Document(page_content='can do - it can look at the data and figure out how to make it fit into a smaller space.', metadata={}),\n",
              " Document(page_content='The way an autoencoder works is by training itself to take a large amount of data and then create a', metadata={}),\n",
              " Document(page_content='smaller representation of that data. This is known as an encoding. It does this by learning a', metadata={}),\n",
              " Document(page_content='\"latent space\" representation of the data, which is a kind of map of how the data is organized. This', metadata={}),\n",
              " Document(page_content='map is smaller than the original data, but still contains important information about the data.', metadata={}),\n",
              " Document(page_content='Once the autoencoder has learned how to create a smaller', metadata={})]"
            ]
          },
          "metadata": {},
          "execution_count": 17
        }
      ]
    },
    {
      "cell_type": "code",
      "source": [
        "texts[0].page_content"
      ],
      "metadata": {
        "colab": {
          "base_uri": "https://localhost:8080/",
          "height": 35
        },
        "id": "_hWH5CEm2vbH",
        "outputId": "01601d8e-8860-42f1-cd48-306d234c395a"
      },
      "execution_count": null,
      "outputs": [
        {
          "output_type": "execute_result",
          "data": {
            "text/plain": [
              "'An autoencoder is a type of computer program that can learn how to do something. It can learn by'"
            ],
            "application/vnd.google.colaboratory.intrinsic+json": {
              "type": "string"
            }
          },
          "metadata": {},
          "execution_count": 18
        }
      ]
    },
    {
      "cell_type": "code",
      "source": [
        "# Import and instantiate OpenAI embeddings\n",
        "from langchain.embeddings import OpenAIEmbeddings\n",
        "embeddings = OpenAIEmbeddings(model_name=\"ada\")"
      ],
      "metadata": {
        "id": "YRYEO3DC3N8W"
      },
      "execution_count": null,
      "outputs": []
    },
    {
      "cell_type": "code",
      "source": [
        "# Turn the first text chunk into a vector with the embedding\n",
        "import tiktoken\n",
        "query_result = embeddings.embed_query(texts[0].page_content)\n",
        "print(query_result)"
      ],
      "metadata": {
        "colab": {
          "base_uri": "https://localhost:8080/"
        },
        "id": "FnPhPBKy3UTz",
        "outputId": "6ac7ac00-bfea-491a-eb55-972d9d43d2e1"
      },
      "execution_count": null,
      "outputs": [
        {
          "output_type": "stream",
          "name": "stdout",
          "text": [
            "[-0.029225335606222633, 0.04170081280416132, 0.0073318982398839355, 0.02499185435697045, 0.028795852487133452, 0.017138439703634947, -0.017659956117086515, 0.0056293027832758444, 0.029327592959535742, -0.0007490398511220017, -0.03828539596934931, -0.02897991721321313, 0.02476688780715259, 0.02875494880075017, 0.0187745685325153, -0.014305893880526888, 0.05787802705365969, -0.010128654268729172, 0.016586247388041014, 0.002252232455956256, 0.014305893880526888, -0.0072858825240252915, 0.05427854363012291, -0.012772024267604742, 0.036731074513235526, 0.020676567597596802, 0.02495095067058717, 0.03941023244372882, 0.0015044707868260728, -0.023887467863137488, -0.028959465370021486, -0.0024005064564505602, 0.04585248481800183, 0.02098334152018123, 0.031454558574435104, 0.02769146599330049, 0.03824449228296603, 0.0006806548153571801, -0.029961592647896242, -0.011013186242219634, 0.006447366732054747, -0.02235359825021534, 0.0047089810155225564, 0.013252636063350478, -0.010302493073213027, -0.01633060307343569, -0.07121246862713164, 0.01032294491640467, -0.014725152009342797, 0.0497382903209314, 0.01948014780940145, 0.03219081747875381, 0.006263302471636344, 0.03157726963358495, 0.002929691612607083, -0.05055635287272648, 0.027609658620533918, -0.03902165114837782, -0.039348876914153896, -0.014571765048050583, 0.017015730507130195, -0.017659956117086515, 0.012996991748745154, 0.03650610423812747, -0.07542549617054707, -0.038489910675975535, 0.02298759793857584, -0.010716638241231027, 0.015144409206836157, -0.06994446925041063, -0.0010123541307931261, 0.05628280191116262, 0.0021640348135148505, -0.06053673314096134, -0.014510409518475657, -0.03337700948270825, 0.015338699854511655, 0.01843711684514341, 0.03157726963358495, -0.005976979926582282, 0.012874281620917851, 0.006161044187000685, 0.006999559978971229, -0.01738385995928955, -0.013559410917257457, 0.04170081280416132, -0.013610539593914011, -0.03176133249701953, -0.010685960476443565, -0.03157726963358495, 0.037917266517189956, 0.015369376687976569, -0.041230424136043754, 0.014704700166151155, 0.027814175189805238, -0.02055385840109205, 0.05174254860197111, 0.024623726767456194, -0.0385717180487421, 0.019336986769705054, -0.0033259414178323956, -0.04225300511975525, -0.0394511361301121, -0.039369328757345536, -0.002929691612607083, 0.039287521384578965, -0.03405191285745203, -0.001319128169792874, 0.0003534291951002576, -0.009453751825307936, 0.005020867898904897, 0.0016054505984316172, 0.008620349459796579, -0.025237274612625055, 0.03797862204676488, 0.05047454922525011, 0.006365560290610729, 0.06814472940128735, -0.009975267307436957, 0.037119652083296324, -0.015236441569875995, 0.012669765982969082, 0.007567091642620168, 0.0033847397685164535, 0.0394511361301121, 0.0168725694674338, -0.001204087948823713, -0.016412408583557157, -0.01538982853116821, 0.015451183129420586, 0.06736756681058535, 0.020257308537458343, -0.028611787761053775, 0.0012219830787857623, -0.006503608835170487, 0.0017332731049802357, -0.002227946124996819, 0.04552525905222576, 0.08135646364089964, -0.023130758978272235, 0.010297380112415117, -0.006396237589736917, 0.007935220163456973, -0.009530445305954044, 0.0018521479301325107, 0.05501480253444162, -0.004100545665490334, 0.05787802705365969, 0.015727279287217552, -0.019122246141483015, 0.020400471439799835, -0.024398758354993236, 0.006196834446924783, 0.050924482324885834, 0.06654950798408048, 0.013804829310266959, -0.040248746838715536, 0.039389780600537175, -0.004054529483970414, -0.008487413410373455, -0.0014993579424434809, 0.021126502559877625, -0.04294836033769067, 0.03720145945606289, -0.011800572891872349, -0.04270293821939097, -0.01823260027587209, -0.008083495095273827, -0.006217286290116425, -0.0011759670136811617, 0.011657411852175956, 0.04806125780566776, -0.03435868678003646, -0.017445213626219376, 0.03460410517304596, 0.0029578126641649533, 0.04331648606455983, -0.03219081747875381, -0.023989727079095694, 0.02094243783379795, 0.0626637024811509, 0.030207012903550847, 0.03386784999401745, 0.02687340157886031, 0.0008992312701231815, -0.01169831460723669, 0.05616009085201277, -0.018795020375706944, 0.003975279522925352, 0.012843604787452938, 0.014827409362655907, -0.050351838166100255, 0.0334997205418581, 0.02709836999132327, -0.013753700633610404, -0.0020221520140179345, 0.001798462540246363, -0.049083838789379254, -0.04282564927854082, 0.007945446085052795, 0.04258023088553132, 0.01075754099629176, 0.024828241474082417, 0.014806958450786814, 0.0069177535375272116, 0.008052817330486364, 0.04511622963897332, -0.0033259414178323956, -0.0025947966384647836, -0.0018265834753889145, -0.0018585391311298988, -0.025666757731714236, 0.018887051807424234, -0.01317083055322901, 0.007981236810638167, 0.011565379489136118, 0.005337867277423872, -0.03677197447432861, 0.016627151074424296, 0.013058346346997528, -0.04462538912766412, -0.022844436898879446, 0.004172126185338531, 0.012260733775748994, -0.004087763263495558, -0.012260733775748994, -0.0406168762908749, -0.01043031616183824, -0.03511539752754681, 0.03182268802659446, 0.028018691759076557, -0.012669765982969082, 0.006871737356007292, 0.04446177810742118, -0.0023135872870392693, -0.004565819510164888, -0.009208332500975884, 0.04626151795654447, -0.01898931102338244, -0.014878538970635012, 0.03423597944617681, -0.0411077168021841, -0.011217702811490954, 0.04605700324991825, -0.042130294060605394, -0.0017013174492392514, 0.00039337373567265824, 0.005936076705860273, 0.032722557951156105, 0.023948823392712412, -0.005005529016511165, -0.0373037186720211, 0.0741165931074428, -0.04982009769369797, 0.021780954091429765, 0.01474560292121189, -0.05624189822477934, -0.02752785311041245, 0.04127132782242703, 0.02572811139864406, -0.0032492479371862885, 0.04442087442103789, -0.006442253771256836, -0.04286655296492411, 0.012158475491113334, 0.0008129511043963108, -0.02634166110645802, 0.023539790254169773, 0.061191184672513485, -0.0015415392869496487, 0.022271792740093874, 0.021249211756382377, 0.014786506607595173, 0.0010519791113156574, -0.015246667491471817, -0.011821024735063992, 0.02887765799725492, -0.003627602379618914, -0.06188653989044891, 0.03470636438900417, -0.041128164920085544, 0.01054279943674717, -0.00024589851888770893, -0.024521467551497988, 0.016933924997008725, 0.011841476578255633, 0.01946992188780563, -0.045443455404749394, -0.02098334152018123, 0.019838051339964982, 0.03621978215873468, 0.03313159108969874, -0.026546175813084237, -0.20435238828167587, 0.007096704837147703, -0.019326760848109234, 0.04352100449647625, -0.011483573047692099, 0.024398758354993236, -0.036649267140468955, 0.015154635128431978, 0.05366499578495405, -0.05223338538799011, 0.02685294973566867, 0.04118952044966047, -0.006135479848672407, 0.0035688040289348563, 0.00763355966733173, 0.021024245206564516, 0.05419673998264654, 0.009796316473477739, 0.0002577221243175582, -0.02098334152018123, -0.001584998988070613, 0.010777992839483403, -0.016299925308648225, -0.0035381267298086683, -0.05975957427554955, 0.006784817953765364, -0.004271827989575235, -0.013866184839841885, -0.032640754303679735, 0.03323385030565695, 0.031740880653827894, -0.04679325842894676, 0.03147501041762674, -0.004721762951856058, -0.053092351626168474, -0.01476605476440353, 0.046629647408703824, 0.003632715340416825, -0.02074814718612245, 0.021862759601551235, 0.013354894347986137, -0.05419673998264654, -0.005210045120121209, 0.012628862296585799, -0.013630991437105652, -0.026730240539163917, -0.029225335606222633, 0.005115456276682416, 0.022517211133103378, 0.0011114165820994542, 0.036444748708552535, -0.010716638241231027, -0.002175538975310149, -0.029245787449414275, -0.10446677077598022, 0.03190449539936103, 0.06352266499403907, -0.016933924997008725, 0.001588833592253727, -0.003088191534697208, 0.021740050405046483, 0.01864163341441473, -0.024501015708306345, -0.06679492265179977, 0.004824021236491717, 0.05235609644713997, 0.062172861969841696, 0.04470719650043068, 0.008569219851817474, 0.034276879407269895, -0.001747333514343852, 0.010931379800775617, 0.029082174566526238, 0.01950059965259309, 0.009678719306448348, -0.061272992045280056, 0.003694070171499838, -0.04986100138008125, 0.026627983185850808, 0.029552561371998704, 0.009719622992831632, -0.009520219384358224, 0.02940940033230231, -0.03992152107293947, 0.07828872441505534, -0.07607994770209922, 0.009090736265269043, 0.019756245829843515, -0.051783448563064195, -0.003617376690853731, -0.05926873376424034, 0.04773403203989169, 0.031086430984920848, -0.0164328604267488, -0.006846173017679014, 0.019643760692289482, 0.0033438365477944446, 0.07873865751469107, 0.013395798034369421, 0.017025956428726015, -0.009934364552376222, -0.04137358703838524, -0.0011139730624984095, 0.007229640420909551, 0.05877789697822133, -0.017731537568257263, -0.037815007301231746, -0.014714926087746976, -0.013641217358701474, 0.003520231599846619, 0.016821439859454695, -0.0177008598034698, -0.009816767385346831, -0.05554654300684391, -0.03192494724255267, 0.03787636283080667, -0.010685960476443565, -0.03329520583523188, -0.0017652286443059011, -0.006437140810458926, -0.040923650213459326, -0.028489078564549023, -0.011892605254912189, 0.020615212068021877, -0.05407402892349669, 0.026546175813084237, -0.05231519276075668, 0.005440125562059531, -0.00226245814472144, -0.06405441291702176, 0.002043881631747779, 0.030391077629630524, -0.009857671071730115, -0.03290662453988088, -0.027384692070716057, 0.0032006752752674135, -0.045075325952590034, -0.043398293437326395, 0.001041753306135155, -0.006549624551029132, 0.008518091175160919, 0.0037579814829818065, -0.039348876914153896, 0.04352100449647625, -0.004422658470468494, 0.009121413098733955, 0.012853830709048759, 0.045443455404749394, 0.020267534459054163, 0.005619076861680023, -0.007648898084064186, 0.0067285763163108985, 0.04033055421148211, -0.028714045114366885, 0.013671894192166387, 0.008804413254553705, 0.003003828612854235, -0.0522742890743734, -0.016933924997008725, -0.021596889365350088, 0.004264158548378369, -0.013252636063350478, -0.015676151541883548, 0.0394511361301121, 0.0029373610538039486, 0.030288818413672314, -0.06070034788649448, -0.035953911922533534, 0.01181079881346817, -0.01697482682074691, -0.020574308381638592, -0.036731074513235526, 0.0020592205141415102, -0.025482693005634556, -0.06213195828345842, -0.0018457568455504413, 0.010261590318152294, -0.0016067288386310949, 0.052969644292308826, 0.010491670760090615, 0.010972283487158901, 0.021351469109695487, 0.024398758354993236, 0.019152922043625377, -0.0021180188648255685, 0.032333980381095306, 0.04814306517843433, -0.012894733464109494, -0.026955208951626876, 0.016708956584545766, 0.021433276482462054, -0.02094243783379795, -0.02192411513112616, -0.011953959853164563, -0.004721762951856058, -0.014827409362655907, 0.01168808868564087, 0.012138024579244242, -0.031454558574435104, -0.016463538191536262, 0.028202756485156237, 0.009944590473972044, -0.08589672067538134, -0.005184480316131657, -0.013579861829126549, -0.02699611077536506, -0.10111270574545296, -0.037324170515212744, -0.06008680004132562, 0.0284277230349741, 0.054932995161675054, 0.027221079187828023, 0.04806125780566776, 0.0022599016643224845, 0.03149546226081839, 0.014888764892230833, -0.0015824425076716576, 0.029286691135797557, 0.009141864941925598, 0.02446011388456816, 0.05452396574842261, 0.013119700945249904, -0.007321672783949389, -0.005079666016758317, 0.022619468486416487, -0.02054363247949623, 0.018068987392984053, 0.015543215492460424, 0.021433276482462054, -0.034481397839186315, 0.01835531133502194, -0.016494215956323725, -0.040453265270631956, -0.0008321244745578377, -0.006125253927076586, 0.03147501041762674, -0.0084362847337169, -0.03626068584511796, 0.052028870681363894, 0.02558495035894767, -0.02288534058526273, -0.023703403137057807, -0.037037848435819955, 0.03178178434021118, 0.017751987548803805, 0.01526711933466346, 0.00287344974232198, 0.059718670589166266, -0.0021525308845501893, -0.005813367043694247, -0.0015466522477475592, -0.010706412319635206, -0.017874698607953654, -0.011994863539547847, -0.035688041686332383, -0.03630158953150124, 0.004854698535617905, 0.006242850628444702, -0.010767766917887582, -0.009970154346639046, -0.02519637092624177, -0.013886635751710978, -0.004320400185832835, 0.07575272566161334, 0.01191305709810383, 0.03491087909563039, 0.035953911922533534, 0.0296957224116951, -0.018692761159748734, 0.004031521626041093, -0.02562585404533095, 0.034972234625205316, 0.029470755861877238, 0.04245751982638147, 0.02405108074602552, -0.03208855826279561, -0.012056218137800223, -0.008175526526991116, 0.011187025046703492, -0.03889894381451817, 0.006841060056881104, -0.006861511434411471, -0.02266037217279977, 0.030084303707046095, -0.039083006677952746, 0.007689801304786195, -0.013058346346997528, -0.06474976068437678, 0.00637578621220655, -0.0027635224821507295, -0.02949120584242378, -0.004780561535370754, -0.0371605557696796, -0.01242434665863703, 0.005036206315637353, -0.014040022713003192, -0.008482300449575545, -0.02129011544276566, 0.015645473777096085, 0.040351006054673746, 0.025605402202139308, -0.041148616763277183, 0.054442158375656045, -0.010706412319635206, -0.006815495718552826, -0.0018125230660252982, -0.006094576627950398, 0.03889894381451817, -0.004391981171342306, -0.022517211133103378, 0.008057930291284274, -0.004882819354345138, 0.014888764892230833, -0.05448306206203933, -0.02529862827955488, 0.012536830864868509, -0.034092816543835315, -0.0664677006113139, 0.022128629837752378, 0.03669017082685224, -0.024194241785721916, 0.0708034392138792, -0.020676567597596802, -0.05652822030417212, 0.03014565737397592, -0.022169533524135664, 0.02192411513112616, -0.05419673998264654, 0.029552561371998704, -0.033111139246507104, 0.0064575926536505675, -0.004080094287959967, 0.02413288811879209, 0.016821439859454695, -0.0033821832881174986, 0.06278641354030076, 0.0023097525664408365, -0.014837635284251728, 0.005567948185023468, 0.036547007924510745, 0.03167952884954316, -0.0023442645861654573, 0.004144005366611298, -0.008865768784128631, -0.009959929356365775, 0.02157643752215845, 0.005905399406734085, 0.026525723969892598, 0.041128164920085544, 0.01202554037301276, 0.0005863857065912338, 0.008078382134475917, 0.039287521384578965, -0.036547007924510745, -0.007976123849840257, 0.028509530407740666, 0.058573382271595115, 0.03012520553078428, 0.032722557951156105, -0.003003828612854235, -0.013099249102058263, 0.013630991437105652, -0.03317249477608203, -0.04932925718238876, -0.010256477357354384, 0.027752819660230313, 0.008032365487294722, 0.05534202830021769, -0.035667589843140744, 0.016054505052993624, 0.05292874060592554, -0.01634082713238641, 0.015880666248509766, 0.020962889676989588, -0.0059156253283299065, -0.02421469362891356, -0.014837635284251728, -0.03879668459855996, 0.03736507420159602, 0.035688041686332383, 0.009995719150628598, 0.08491503965276294, -0.03403146101426039, 0.006242850628444702, 0.011974411696356206, -0.02685294973566867, 0.0366697189836606, -0.002202381553837904, -0.030861464435102987, 0.018723438924536196, -0.04540255171836611, 0.02484869331727406, -0.045361648031982824, 0.0030856350542982527, 0.011330186086399885, -0.004195134508929128, -0.008630575381392398, 0.02875494880075017, -0.009658267463256707, -0.020369793675012373, 0.021453728325653697, -0.012281185618940635, 0.059841381648316115, 0.013753700633610404, -0.004867480471951407, -0.027895982562571805, -0.035238104861406466, 0.024828241474082417, 0.059923185295792485, -0.03435868678003646, 0.03219081747875381, -0.008400494939454077, 0.05104719338403568, -0.011432444371035544, -0.004169569704939576, 0.023805662353016017, 0.00822154317417231, 0.019531277417380553, 0.03172043253592645, 0.06564963433422863, 0.05272422217400912, -0.04732500262663925, -0.006708124473119257, 0.011841476578255633, 0.04597519587715168, 0.02149463201203698, 0.01573750520881337, -0.0305751404930651, 0.08213362623160163, -0.043398293437326395, 0.03581074902019204, -0.016800989878908153, -0.007812510966952221, 0.02415333996198373, -0.033683783405292676, -0.004655295392805772, -0.029143530096101166, -0.060986669965887266, 0.019112020219887192, 0.01589089217010559, 0.002863223820726159, 0.00721430153851582, -0.012199379177496618, -0.018559826041648162, 0.03728326682882946, -0.09121413284998466, -0.010338283798798401, -0.004862367976814772, 0.024296501001680126, 0.05575106143876033, -0.016903247232221263, -0.009239010265763346, 0.008461849537706453, -0.03484952729134567, 0.005281625639969406, 0.004317844171095155, 0.021801405934621407, 0.06135479941804662, 0.011749444215215794, 0.02961391690157363, 0.03208855826279561, 0.025564498515756026, -0.009530445305954044, -0.014101378242578119, -0.044952614893440185, -0.045034422266206756, 0.030309270256863956, 0.002109071183429225, -0.02822320646570278, 0.03638339690426781, -0.004448222808796772, -0.027466497580837527, -0.013416248946238513, 0.06630408586578077, -0.008426058812121079, -0.05407402892349669, -0.015952247699680514, -0.00917254270671306, -0.003550908898972807, 0.015154635128431978, 0.023601145783744698, 0.04253932719914803, -0.04298926402407396, 0.0024247927874099977, -0.06290911714887021, -0.016422634505152977, 0.002308474326241359, -0.007500624083569882, 0.020257308537458343, -0.01202554037301276, -0.039348876914153896, 0.06659041167046376, 0.026300757420074736, 0.02425559731529684, 0.05002461240032419, 0.011626734087388494, 0.006181496030192327, 0.0059616410441885506, -0.017220247076401515, -0.00020195955045151494, -0.00011336257436309107, 0.01210734681445678, -0.01948014780940145, 0.042907456651307394, 0.016841891702646338, 0.022067276170822554, -0.010870025202523241, 0.004824021236491717, -0.020431147341942197, -0.0022701275859183054, -0.03650610423812747, -0.013723022868822942, -0.020819728637293197, -0.05669183504970526, -0.027446045737645884, -0.012516379021676868, 0.028959465370021486, -0.003783545821310084, -0.05419673998264654, -0.04802035411928448, 0.022926242409000916, 0.08340162560832264, -0.003617376690853731, 0.000788664831644533, 0.07121246862713164, 0.004650182432007861, -0.006636543953271059, -0.029675270568503456, 0.050310934479716976, -0.011207476889895132, -0.0070302372780974174, 0.0009356606501470187, -0.019756245829843515, 0.031454558574435104, -0.011943733931568744, 0.02697565893217342, -0.012516379021676868, -0.01096205756556308, 0.004376642288948575, -0.03689468553347846, -0.014837635284251728, 0.051783448563064195, 0.03761049259460553, 0.008190865409384848, -0.0027532965605549086, 0.038224040439774384, 0.0023506557871628454, 0.03699694474943667, -0.020461825106729663, -0.02834591752485263, -0.0043868682105443965, 0.02562585404533095, 0.011626734087388494, 0.013590087750722369, -0.0017498899947428074, -0.003755425002582851, 0.016064730974589443, 0.005936076705860273, -0.0011727714131824676, -0.0634408650718529, 0.02816185279877295, -0.04204849041312903, 0.039655650836738325, -0.007480172706039514, -0.011647185930580135, -0.03043197945336871, -0.019112020219887192, -0.022414953779790265, 0.0034921105482887487, 0.0303297221000556, 0.01263908821818162, 0.018089439236175696, -0.013211733308289744, 0.014408152165162547, 0.029654818725311814, 0.005982092887380192, 0.0013421362605528335, 0.006764366576234997, -0.020073245674023764, 0.016381730818769695, 0.005005529016511165, 0.018263278040659553, -0.0034869978203214756, -0.06372718342595549, -0.02011414749776195, -0.04143493884266997, -0.009100962186864863, -0.11788302344750895, 0.0002868017396097178, -0.052887836919542255, -0.009121413098733955, 0.02351934027362323, 0.0024337402359757036, 0.039798813739079814, -0.026750692382355556, -0.000903065932513955, -0.046425132702077605, -0.014684248322959514, -0.04282564927854082, 0.01803831149084169, 0.008068156212880095, -0.008594784655807026, 0.003277368755913521, -0.03891939565770981, -0.026730240539163917, -0.02078905087250573, 0.006212173329318515, -0.06609956743386435, 0.0077307045255082035, -0.009412849070247203, -0.017670182038682338, 0.04793855047180811, -0.0499837087139409, 0.06425892389835777, -0.0309637217884161, -0.02973662609807838, 0.03544262329332288, -0.010374073593061224, 0.021228759913190735, -0.0001979650934838919, -0.013140152788441547, 0.012178927334304975, -0.011544927645944475, -0.031229592024617243, -0.009990606189830688, 0.02141282463927041, -0.04051461707491669, -0.011330186086399885, 0.02605533716442013, -0.0069484308366534, 0.018488246453122515, 0.03519720117502318, 0.00028312682814004935, -0.12352765766259811, -0.02940940033230231, -0.02200592064124763, 0.047815839412658254, 0.015154635128431978, 0.009765638708690277, 0.027998239915884918, -0.010614379956595367, 0.0189688591801908, 0.0280391436022682, 0.03141365861334202, -0.00019205330532088213, 0.026587079499467522, -0.005803141587759701, -0.01634082713238641, -0.014735377930938619, 0.08217452991798492, -0.013763926555206226, -0.027241531031019665, -0.02615759638037834, 0.02558495035894767, 0.023130758978272235, 0.024746435963960946, 0.005859383225214166, -0.02918443191983935, 0.013395798034369421, 0.02666888500958899, -0.006897302159996844, 0.018805246297302763, -0.013569635907530728, -0.024930500690040627, 0.07162149804038408, -0.0011957795039424272, -0.023478436587239946, 0.0003665310116257548, -0.04352100449647625, -0.0008270115719675866, 0.02141282463927041, -0.03323385030565695, -0.05910512274399741, 0.02192411513112616, 0.020932211912202126, 0.06716305582924934, -0.049165646162145825, -0.006288866809964622, 0.03675152263113697, 0.00019716620791113325, 0.0312091401814256, -0.04184397198121261, -0.05166074122920454, 0.016412408583557157, -0.12254598409056011, 0.06544511590231221, -0.047202291567489396, 0.02484869331727406, 0.015584119178843708, 0.0027481835997569984, -0.032824817167114315, -0.03425642756407825, 0.021535533835775163, -0.010169557955112455, -0.002179373463077944, 0.022701275859183054, -0.03724236314244617, -0.03417462391660188, -0.027343788384332775, -0.008022139565698902, -0.004936504977061923, -0.01878479445411112, -0.05681454238356491, -0.033704235248484316, 0.01486831304903919, 0.007076253459617337, 0.013835507075054423, -0.014050248634599014, 0.010563251279938813, -0.007071140498819426, 0.04863390196445334, -0.003954828145394986, -0.021658243032279915, 0.030084303707046095, 0.028693593271175242, -0.006212173329318515, -0.015614796012308621, 0.007352350083075577, -0.012587959541525064, -0.04527984065921626, -0.015686377463479367, -0.03675152263113697, -0.005276512679171496, 0.039798813739079814, -0.016596473309636834, -0.018795020375706944, 0.02035956775341655, 0.010849573359331599, 0.06609956743386435, -0.010910927957583975, -0.019786921731985877]\n"
          ]
        }
      ]
    }
  ]
}